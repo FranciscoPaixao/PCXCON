{
  "nbformat": 4,
  "nbformat_minor": 0,
  "metadata": {
    "colab": {
      "provenance": [],
      "authorship_tag": "ABX9TyP2EZnwOFw1ljA7YF+6kQK8",
      "include_colab_link": true
    },
    "kernelspec": {
      "name": "python3",
      "display_name": "Python 3"
    },
    "language_info": {
      "name": "python"
    }
  },
  "cells": [
    {
      "cell_type": "markdown",
      "metadata": {
        "id": "view-in-github",
        "colab_type": "text"
      },
      "source": [
        "<a href=\"https://colab.research.google.com/github/FranciscoPaixao/PCXCON/blob/main/PC_XCON.ipynb\" target=\"_parent\"><img src=\"https://colab.research.google.com/assets/colab-badge.svg\" alt=\"Open In Colab\"/></a>"
      ]
    },
    {
      "cell_type": "code",
      "execution_count": null,
      "metadata": {
        "id": "7JLm7WLPF_Zp"
      },
      "outputs": [],
      "source": [
        "pip install pgmpy"
      ]
    },
    {
      "cell_type": "code",
      "source": [
        "from pgmpy.models import BayesianNetwork\n",
        "from pgmpy.factors.discrete import TabularCPD\n",
        "from pgmpy.inference import VariableElimination\n",
        "import numpy as np"
      ],
      "metadata": {
        "id": "V-gaT9IlGHDe"
      },
      "execution_count": 195,
      "outputs": []
    },
    {
      "cell_type": "code",
      "source": [
        "def print_full(cpd):\n",
        "    backup = TabularCPD._truncate_strtable\n",
        "    TabularCPD._truncate_strtable = lambda self, x: x\n",
        "    print(cpd)\n",
        "    TabularCPD._truncate_strtable = backup"
      ],
      "metadata": {
        "id": "g0UhmacjMHYr"
      },
      "execution_count": 196,
      "outputs": []
    },
    {
      "cell_type": "code",
      "source": [
        "modelo_pcxcon = BayesianNetwork([\n",
        "    ('UsoPrincipal', 'CPU'),\n",
        "    ('UsoPrincipal', 'GPU'),\n",
        "    ('UsoPrincipal', 'RAM'),\n",
        "    ('UsoPrincipal', 'Armazenamento'),\n",
        "    ('UsoPrincipal', 'Teclado'),\n",
        "    ('UsoPrincipal', 'PerifericoAdicional'),\n",
        "    ('UsoPrincipal', 'Mouse'),\n",
        "    ('UsoPrincipal', 'Monitor')\n",
        "])"
      ],
      "metadata": {
        "id": "3SpGayajGIx8"
      },
      "execution_count": 197,
      "outputs": []
    },
    {
      "cell_type": "code",
      "source": [
        "uso_principal_states = ['Escritorio', 'Programacao', 'Jogos', 'Modelagem3D', 'CompilacaoEVideoEncoding']\n",
        "\n",
        "uso_principal_cpd = TabularCPD(\n",
        "    variable='UsoPrincipal',\n",
        "    variable_card=5,\n",
        "    values=[[0.2], [0.2], [0.2], [0.2], [0.2]],\n",
        "    state_names={\n",
        "        'UsoPrincipal': uso_principal_states\n",
        "    }\n",
        "  )"
      ],
      "metadata": {
        "id": "ROISN8ViBZZV"
      },
      "execution_count": 198,
      "outputs": []
    },
    {
      "cell_type": "code",
      "source": [
        "cpu_states = ['Ryzen3', 'Ryzen5', 'Ryzen7', 'RyzenThreadripper']\n",
        "\n",
        "cpu_probs = [\n",
        "    # Ryzen3  Ryzen5  Ryzen7  RyzenThreadrippe\n",
        "    [0.75, 0.2, 0.05, 0],      # Escritorio\n",
        "    [0.01, 0.4, 0.4, 0.19],    # Programacao\n",
        "    [0.01, 0.5, 0.39, 0.1],    # Jogos\n",
        "    [0, 0.2, 0.3, 0.5],        # Modelagem3D\n",
        "    [0, 0, 0.2, 0.8]           # CompilacaoEVideo\n",
        "]\n",
        "\n",
        "cpu_cpd = TabularCPD(\n",
        "    variable='CPU',\n",
        "    variable_card=len(cpu_states),\n",
        "    values=[proba for proba in np.array(cpu_props).T],\n",
        "    evidence=['UsoPrincipal'],\n",
        "    evidence_card=[len(uso_principal_states)],\n",
        "    state_names={\n",
        "        'CPU': cpu_states,\n",
        "        'UsoPrincipal': uso_principal_states\n",
        "    }\n",
        ")\n",
        "\n",
        "print_full(cpu_cpd)"
      ],
      "metadata": {
        "id": "69Mvh7ueOQpS"
      },
      "execution_count": null,
      "outputs": []
    },
    {
      "cell_type": "code",
      "source": [
        "gpu_states = ['GPUIntegrada', 'RTX3050', 'RTX3060', 'RTX3070', 'RTX3080', 'RTX3090']\n",
        "\n",
        "gpu_probs = [\n",
        "    # UsoPrincipal: GPUIntegrada  RTX3050  RTX3060  RTX3070  RTX3080  RTX3090\n",
        "    [1, 0, 0, 0, 0, 0],       # Escritorio\n",
        "    [0.05, 0.45, 0.2, 0.15, 0.1, 0.05],  # Programacao\n",
        "    [0.025, 0.1, 0.3, 0.25, 0.2, 0.125],  # Jogos\n",
        "    [0.01, 0.04, 0.1, 0.15, 0.45, 0.25],   # Modelagem3D\n",
        "    [0.01, 0.04, 0.1, 0.15, 0.45, 0.25]    # CompilacaoEVideo\n",
        "]\n",
        "\n",
        "gpu_cpd = TabularCPD(\n",
        "    variable='GPU',\n",
        "    variable_card=len(gpu_states),\n",
        "    values=[proba for proba in np.array(gpu_probs).T],\n",
        "    evidence=['UsoPrincipal'],\n",
        "    evidence_card=[len(uso_principal_states)],\n",
        "    state_names={\n",
        "        'GPU': gpu_states,\n",
        "        'UsoPrincipal': uso_principal_states\n",
        "    }\n",
        ")\n",
        "print_full(gpu_cpd)"
      ],
      "metadata": {
        "id": "pkjQWUhbPsi8"
      },
      "execution_count": null,
      "outputs": []
    },
    {
      "cell_type": "code",
      "source": [
        "mouse_states = ['MousePadaria', 'Top5DeluxM800PRO', 'Top4MotospeedDarmosharkM3', 'Top3AjazzAj139', 'Top2KysonaM600', 'Top1DragonFlyVgnF1']\n",
        "\n",
        "mouse_probs = [\n",
        "    # UsoPrincipal: MousePadaria  Top5DeluxM800PRO  Top4MotospeedDar  Top3AjazzAj139  Top2KysonaM600  Top1DragonFlyVgn\n",
        "    [1, 0, 0, 0, 0, 0],            # Escritorio\n",
        "    [0, 0.8, 0.2, 0, 0, 0],        # Programacao\n",
        "    [0, 0.05, 0.1, 0.2, 0.25, 0.4],# Jogos\n",
        "    [0, 0.4, 0.25, 0.2, 0.1, 0.05],# Modelagem3D\n",
        "    [0.8, 0.2, 0, 0, 0, 0]         # CompilacaoEVideo\n",
        "]\n",
        "\n",
        "\n",
        "mouse_cpd = TabularCPD(\n",
        "    variable='Mouse',\n",
        "    variable_card=len(mouse_states),\n",
        "    values=[proba for proba in np.array(mouse_probs).T],\n",
        "    evidence=['UsoPrincipal'],\n",
        "    evidence_card=[len(uso_principal_states)],\n",
        "    state_names={\n",
        "        'Mouse': mouse_states,\n",
        "        'UsoPrincipal': uso_principal_states\n",
        "    }\n",
        ")\n",
        "print_full(mouse_cpd)"
      ],
      "metadata": {
        "id": "2Om627tb_vDz"
      },
      "execution_count": null,
      "outputs": []
    },
    {
      "cell_type": "code",
      "source": [
        "periferico_adicional_probs = [\n",
        "    # MesaDigitalizado, SemPeriferico\n",
        "    [0, 1],       # Escritorio\n",
        "    [0, 1],       # Programacao\n",
        "    [0, 1],       # Jogos\n",
        "    [0.99, 0.01], # Modelagem3D\n",
        "    [0, 1]        # CompilacaoEVideo\n",
        "]\n",
        "\n",
        "periferico_adicional_states = ['MesaDigitalizadora', 'SemPeriferico']\n",
        "\n",
        "\n",
        "periferico_adicional_cpd = TabularCPD(\n",
        "    variable='PerifericoAdicional',\n",
        "    variable_card=len(periferico_adicional_states),\n",
        "    values=[proba for proba in np.array(periferico_adicional_probs).T],\n",
        "    evidence=['UsoPrincipal'],\n",
        "    evidence_card=[len(uso_principal_states)],\n",
        "    state_names={\n",
        "        'PerifericoAdicional': periferico_adicional_states,\n",
        "        'UsoPrincipal': uso_principal_states\n",
        "    }\n",
        ")\n",
        "print_full(periferico_adicional_cpd)"
      ],
      "metadata": {
        "id": "dTt0dzMCA_si"
      },
      "execution_count": null,
      "outputs": []
    },
    {
      "cell_type": "code",
      "source": [
        "monitor_states = ['QHD240HzIPS', 'FHD60hzTN', 'UHD60hzIPSFoscaC1000P1', 'UHD60hzIPSBrilhosaC1000P1']\n",
        "\n",
        "monitor_probs = [\n",
        "    #QHD240HzIPS  FHD60hzTN  UHD60hzIPSFoscaC1000P1  UHD60hzIPSBrilhosaC1000P1\n",
        "    [0, 1, 0, 0],       # Escritorio\n",
        "    [0, 1, 0, 0],       # Programacao\n",
        "    [1, 0, 0, 0],       # Jogos\n",
        "    [0, 0, 0.5, 0.5],   # Modelagem3D\n",
        "    [0, 1, 0, 0]        # CompilacaoEVideo\n",
        "]\n",
        "\n",
        "monitor_cpd = TabularCPD(\n",
        "    variable='Monitor',\n",
        "    variable_card=len(monitor_states),\n",
        "    values=[proba for proba in np.array(monitor_probs).T],\n",
        "    evidence=['UsoPrincipal'],\n",
        "    evidence_card=[len(uso_principal_states)],\n",
        "    state_names={\n",
        "        'Monitor': monitor_states,\n",
        "        'UsoPrincipal': uso_principal_states\n",
        "    }\n",
        ")\n",
        "print_full(monitor_cpd)"
      ],
      "metadata": {
        "id": "K61Rb4UmCqpO"
      },
      "execution_count": null,
      "outputs": []
    },
    {
      "cell_type": "code",
      "source": [
        "teclado_states = ['Membrana', 'Mecanico']\n",
        "\n",
        "teclado_probs = [\n",
        "    # Membrana  Mecanico\n",
        "    [0.99, 0.01],   # Escritorio\n",
        "    [0.8, 0.2],     # Programacao\n",
        "    [0.1, 0.9],     # Jogos\n",
        "    [0.9, 0.1],     # Modelagem3D\n",
        "    [0.9, 0.1]      # CompilacaoEVideo\n",
        "]\n",
        "\n",
        "teclado_cpd = TabularCPD(\n",
        "    variable='Teclado',\n",
        "    variable_card=len(teclado_states),\n",
        "    values=[proba for proba in np.array(teclado_probs).T],\n",
        "    evidence=['UsoPrincipal'],\n",
        "    evidence_card=[len(uso_principal_states)],\n",
        "    state_names={\n",
        "        'Teclado': teclado_states,\n",
        "        'UsoPrincipal': uso_principal_states\n",
        "    }\n",
        ")"
      ],
      "metadata": {
        "id": "OIxR3Dk0DLEk"
      },
      "execution_count": 204,
      "outputs": []
    },
    {
      "cell_type": "code",
      "source": [
        "armazenamento_states = ['SSD512GB', 'SSD1TB', 'HDD1TB', 'HDD4TB']\n",
        "\n",
        "armazenamento_probs = [\n",
        "    # UsoPrincipal: SSD512GB  SSD1TB  HDD1TB  HDD4TB\n",
        "    [0.3, 0, 0.7, 0],    # Escritorio\n",
        "    [0.6, 0.3, 0.1, 0],  # Programacao\n",
        "    [0.3, 0.6, 0.1, 0],  # Jogos\n",
        "    [0.3, 0.7, 0, 0],    # Modelagem3D\n",
        "    [0, 0.2, 0, 0.8]     # CompilacaoEVideo\n",
        "]\n",
        "\n",
        "armazenamento_cpd = TabularCPD(\n",
        "    variable='Armazenamento',\n",
        "    variable_card=len(armazenamento_states),\n",
        "    values=[proba for proba in np.array(armazenamento_probs).T],\n",
        "    evidence=['UsoPrincipal'],\n",
        "    evidence_card=[len(uso_principal_states)],\n",
        "    state_names={\n",
        "        'Armazenamento': armazenamento_states,\n",
        "        'UsoPrincipal': uso_principal_states\n",
        "    }\n",
        ")"
      ],
      "metadata": {
        "id": "naDC4fnyEu6r"
      },
      "execution_count": 205,
      "outputs": []
    },
    {
      "cell_type": "code",
      "source": [
        "ram_states = ['RAM8GB', 'RAM16GB', 'RAM32GB', 'RAM64GB', 'RAM128GB']\n",
        "\n",
        "ram_probs = [\n",
        "    #  RAM8GB  RAM16GB  RAM32GB  RAM64GB  RAM128GB\n",
        "    [0.7, 0.3, 0, 0, 0],        # Escritorio\n",
        "    [0.01, 0.3, 0.4, 0.15, 0.14],  # Programacao\n",
        "    [0.05, 0.6, 0.25, 0.05, 0.05],  # Jogos\n",
        "    [0.01, 0.1, 0.25, 0.39, 0.25],   # Modelagem3D\n",
        "    [0.01, 0.1, 0.25, 0.39, 0.25]    # CompilacaoEVideo\n",
        "]\n",
        "\n",
        "ram_cpd = TabularCPD(\n",
        "    variable='RAM',\n",
        "    variable_card=len(ram_states),\n",
        "    values=[proba for proba in np.array(ram_probs).T],\n",
        "    evidence=['UsoPrincipal'],\n",
        "    evidence_card=[len(uso_principal_states)],\n",
        "    state_names={\n",
        "        'RAM': ram_states,\n",
        "        'UsoPrincipal': uso_principal_states\n",
        "    }\n",
        ")\n"
      ],
      "metadata": {
        "id": "fiRxJ4YPcP2w"
      },
      "execution_count": 249,
      "outputs": []
    },
    {
      "cell_type": "code",
      "source": [
        "modelo_pcxcon.add_cpds(uso_principal_cpd, cpu_cpd, gpu_cpd, mouse_cpd,periferico_adicional_cpd, monitor_cpd,teclado_cpd,armazenamento_cpd, ram_cpd)\n",
        "inferencia = VariableElimination(modelo_pcxcon)"
      ],
      "metadata": {
        "id": "eU0-DU96QkMT"
      },
      "execution_count": null,
      "outputs": []
    },
    {
      "cell_type": "code",
      "source": [
        "# Tipos de uso aceitos:\n",
        "# Escritorio\n",
        "# Programacao\n",
        "# Jogos\n",
        "# Modelagem3D\n",
        "# CompilacaoEVideoEncoding\n",
        "\n",
        "#Recomendacao de Computador\n",
        "usoPrincipal = 'Jogos'\n",
        "\n",
        "resultado = inferencia.map_query(['CPU','GPU','RAM', 'Monitor','Armazenamento', 'Mouse', 'Teclado', 'PerifericoAdicional'],evidence={'UsoPrincipal' : usoPrincipal})\n",
        "\n",
        "print(resultado)\n",
        "\n",
        "# Categorizar o Computadur\n",
        "cpu = 'RyzenThreadripper' # Ryzen3, Ryzen5, Ryzen7, RyzenThreadripper\n",
        "gpu = 'RTX3050' # RTX3050, RTX3060, RTX3070, RTX3080, RTX3090\n",
        "ram = 'RAM32GB' # RAM8GB, RAM16GB, RAM32GB, RAM64GB, RAM128GB\n",
        "resultado2 = inferencia.map_query(['UsoPrincipal'],evidence={'CPU' : cpu, 'GPU': gpu, 'RAM': ram})\n",
        "\n",
        "print(resultado2)"
      ],
      "metadata": {
        "id": "XFwYhxVnbQWq"
      },
      "execution_count": null,
      "outputs": []
    }
  ]
}